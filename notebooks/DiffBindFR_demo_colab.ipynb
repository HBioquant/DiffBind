{
  "cells": [
    {
      "cell_type": "markdown",
      "metadata": {
        "id": "view-in-github",
        "colab_type": "text"
      },
      "source": [
        "<a href=\"https://colab.research.google.com/github/HBioquant/DiffBindFR/blob/main/notebooks/DiffBindFR_demo_colab.ipynb\" target=\"_parent\"><img src=\"https://colab.research.google.com/assets/colab-badge.svg\" alt=\"Open In Colab\"/></a>"
      ]
    },
    {
      "cell_type": "markdown",
      "metadata": {
        "id": "e8zoc3_qC-mr"
      },
      "source": [
        "### **🔥🔥DiffBindFR**\n",
        "<div class=\"alert alert-info\"> Diffusion model based flexible protein-ligand docking\n",
        "</div>\n",
        "\n",
        "for more details see our [Paper](https://pubs.rsc.org/en/content/articlelanding/2024/sc/d3sc06803j)\n",
        "\n",
        "Here, we conduct a demo by using DiffBindFR to redock ligand (fetched by PDB ID: 2ZEC) into the predefined pocket of **AlphaFold2 modelled structure** (Uniprot ID: Q15661)."
      ]
    },
    {
      "cell_type": "code",
      "execution_count": null,
      "metadata": {
        "id": "pmphdJKTDv5r",
        "cellView": "form"
      },
      "outputs": [],
      "source": [
        "#@title **Install Conda Colab**\n",
        "#@markdown It will restart the kernel (session), don't worry.\n",
        "!pip install -q condacolab\n",
        "import condacolab\n",
        "condacolab.install()\n",
        "\n",
        "from google.colab import files\n",
        "from google.colab import output\n",
        "output.enable_custom_widget_manager()"
      ]
    },
    {
      "cell_type": "code",
      "execution_count": 2,
      "metadata": {
        "id": "evMc286hDJgr",
        "cellView": "form"
      },
      "outputs": [],
      "source": [
        "#@title **Install dependencies**\n",
        "#@markdown It will take a few minutes, please, drink a coffee and wait. ;-)\n",
        "# install dependencies\n",
        "%%capture\n",
        "\n",
        "import sys\n",
        "import os\n",
        "import subprocess\n",
        "import tarfile\n",
        "from pathlib import Path\n",
        "home = Path(os.path.abspath(\"DiffBindFR/\"))\n",
        "sys.path.insert(0, str(home))\n",
        "\n",
        "commands = [\n",
        "    \"git clone https://github.com/HBioquant/DiffBindFR.git\",\n",
        "    \"mamba install -c conda-forge openmm=7.7.0\",\n",
        "    \"mamba install -c conda-forge pdbfixer -y\",\n",
        "    \"mamba install -c conda-forge openmmforcefields -y\",\n",
        "    \"mamba install -c conda-forge ambertools -y\",\n",
        "    \"mamba install -c conda-forge pymol-open-source\",\n",
        "    \"mamba install -c conda-forge openbabel -y\",\n",
        "    \"mamba install -c conda-forge mpi4py -y\",\n",
        "    \"mamba install -c conda-forge cudatoolkit==11.7.*\",\n",
        "    \"pip install torch==1.13.1 --quiet\",\n",
        "    \"pip install ml_collections\",\n",
        "    \"tail -n +12 ./DiffBindFR/requirements/runtime.txt > ./DiffBindFR/requirements/pkgs.txt\",\n",
        "    \"pip install -r ./DiffBindFR/requirements/pkgs.txt --quiet\",\n",
        "    \"chmod +x ./DiffBindFR/druglib/ops/smina/smina.static\",\n",
        "    \"chmod +x ./DiffBindFR/druglib/ops/dssp/mkdssp\",\n",
        "    \"chmod +x ./DiffBindFR/druglib/ops/msms/msms\",\n",
        "]\n",
        "\n",
        "for cmd in commands:\n",
        "  subprocess.run(cmd, shell=True)\n",
        "\n",
        "\n",
        "import torch\n",
        "\n",
        "try:\n",
        "    import torch_geometric\n",
        "except ModuleNotFoundError:\n",
        "    !pip uninstall torch-scatter torch-sparse torch-geometric torch-cluster --y\n",
        "    !pip install --no-index torch-scatter -f https://data.pyg.org/whl/torch-{torch.__version__}.html\n",
        "    !pip install --no-index torch-sparse -f https://data.pyg.org/whl/torch-{torch.__version__}.html\n",
        "    !pip install --no-index torch-cluster -f https://data.pyg.org/whl/torch-{torch.__version__}.html\n",
        "    !pip install git+https://github.com/pyg-team/pytorch_geometric.git --quiet\n",
        "\n",
        "commands = [\n",
        "    \"pip install -e ./DiffBindFR\",\n",
        "    \"wget https://zenodo.org/records/10843568/files/weights.tar.gz\",\n",
        "    \"bash ./DiffBindFR/INSTALL_OPENFF.sh\",\n",
        "]\n",
        "\n",
        "for cmd in commands:\n",
        "  subprocess.run(cmd, shell=True)\n",
        "\n",
        "file = tarfile.open('weights.tar.gz')\n",
        "file.extractall('/content/DiffBindFR/DiffBindFR/')\n",
        "file.close()\n",
        "os.remove('weights.tar.gz')"
      ]
    },
    {
      "cell_type": "code",
      "execution_count": null,
      "metadata": {
        "id": "CVoujat7VMpa"
      },
      "outputs": [],
      "source": [
        "#@title **Run demo**\n",
        "#@markdown Have a fun to run the AF2 structure flexible docking. ;-)\n",
        "import os, sys, glob, shutil\n",
        "home = Path(os.path.abspath(\"DiffBindFR/\"))\n",
        "sys.path.insert(0, str(home))\n",
        "from pathlib import Path\n",
        "import pandas as pd\n",
        "from rdkit import Chem\n",
        "import MDAnalysis as mda\n",
        "import nglview as nv\n",
        "from nglview.color import ColormakerRegistry\n",
        "import torch\n",
        "import druglib\n",
        "from DiffBindFR import common\n",
        "from DiffBindFR.evaluation import get_traj_id, export_xtc\n",
        "from DiffBindFR.app.predict import runner\n",
        "from DiffBindFR.utils import (\n",
        "    pair_spatial_metrics,\n",
        "    PDBPocketResidues,\n",
        "    to_complex_block,\n",
        "    read_molblock,\n",
        "    update_mol_pose,\n",
        ")"
      ]
    },
    {
      "cell_type": "code",
      "execution_count": 4,
      "metadata": {
        "id": "BSBardzeVMwx"
      },
      "outputs": [],
      "source": [
        "example_path = home / 'examples' / 'AF2'\n",
        "holo = example_path / '2zec.pdb'\n",
        "crystal_ligand = example_path / 'ligand.sdf'\n",
        "af2 = example_path / 'Q15661_AF2.pdb'"
      ]
    },
    {
      "cell_type": "markdown",
      "source": [
        "#### PoseView of Holo structure\n",
        "\n",
        "Here, pocket residues within 5 angstrom of crystal ligand are visualized (colored by <font color='red'>red</font>)\n",
        "\n",
        "<font color='red'>Regrettably, nglview does not work properly on Google Colab. It is suggested to turn to Jupyter Notebook to enhance your experience with NGLview visualization ☹.</font>\n",
        "\n",
        "See more details about the issue on the [channel](https://github.com/googlecolab/colabtools/issues/2853#issuecomment-1171699299)."
      ],
      "metadata": {
        "id": "8azDmDWVXQ1l"
      }
    },
    {
      "cell_type": "code",
      "execution_count": null,
      "metadata": {
        "id": "iItnvyJtgEzc"
      },
      "outputs": [],
      "source": [
        "pocket_buffer = 5\n",
        "holo_pocket = PDBPocketResidues.RDmolPocketResidues(\n",
        "    str(holo), str(crystal_ligand),\n",
        ")\n",
        "view = holo_pocket.visualize_pocket(pocket_buffer)\n",
        "view._remote_call('setSize', target='Widget', args=['','600px'])\n",
        "view"
      ]
    },
    {
      "cell_type": "markdown",
      "source": [
        "#### Pocket Conformation visual inspection\n",
        "\n",
        "Compare the AF2 modeled pocket conformation (<font color='yellow'>yellow cartoon</font> and <font color='blue'>blue sticks</font>) with the crystal structure in advance.\n",
        "\n",
        "We could get the knowledge:\n",
        "\n",
        "- AF2 modeled structure has holo-like backbone with CA RMSD = 0.32 A\n",
        "- There are significant differences in pocket side chain conformation with sc-RMSD = 1.24 A, mainly from A:218:ASP, A:219:SER, A:221:GLN, A:244:TRP, A:246:GLU"
      ],
      "metadata": {
        "id": "L_54fyjgXUN8"
      }
    },
    {
      "cell_type": "code",
      "execution_count": null,
      "metadata": {
        "id": "MapWyM7JgE11"
      },
      "outputs": [],
      "source": [
        "view = holo_pocket.compare(str(af2))\n",
        "view._remote_call('setSize', target='Widget', args=['','600px'])\n",
        "view"
      ]
    },
    {
      "cell_type": "code",
      "execution_count": null,
      "metadata": {
        "id": "oQJys3x-gqlb"
      },
      "outputs": [],
      "source": [
        "# Quantitative comparison of pocket conformation between af2 structure and holo\n",
        "holo_chainid = 'A' # see the receptor chain ID in poseview\n",
        "results_df = pair_spatial_metrics(\n",
        "    str(holo), str(crystal_ligand), str(af2),\n",
        "    holo_chainid, 'A', # af2 chain id is A as it is monomer prediction\n",
        "    bs_cutoff = pocket_buffer,\n",
        ")\n",
        "ca_rmsd = results_df.iloc[0].mean_ca_rmsd\n",
        "sc_rmsd = results_df.iloc[0].mean_sc_rmsd\n",
        "print('pocket CA RMSD within 5A of ligand:', round(ca_rmsd, 2))\n",
        "print('pocket side chain heavy atoms RMSD within 5A of ligand:', round(sc_rmsd, 2))"
      ]
    },
    {
      "cell_type": "code",
      "execution_count": null,
      "metadata": {
        "id": "Ae7Fsh4Pgqnv"
      },
      "outputs": [],
      "source": [
        "# let's see the key residues\n",
        "flexible_residues = 'A:218:ASP,A:219:SER,A:221:GLN,A:244:TRP,A:246:GLU'\n",
        "holo_chainid = 'A' # see the receptor chain ID in poseview\n",
        "# reverse the input as the residue is on af2 structure and crystal_ligand here is useless\n",
        "results_df = pair_spatial_metrics(\n",
        "    str(af2), str(crystal_ligand), str(holo),\n",
        "    'A', holo_chainid,\n",
        "    bs_res_str = flexible_residues.split(','),\n",
        ")\n",
        "ca_rmsd = results_df.iloc[0].mean_ca_rmsd\n",
        "sc_rmsd = results_df.iloc[0].mean_sc_rmsd\n",
        "print(f'pocket CA RMSD of {flexible_residues}:', round(ca_rmsd, 2))\n",
        "print(f'pocket side chain heavy atoms RMSD of {flexible_residues}:', round(sc_rmsd, 2))"
      ]
    },
    {
      "cell_type": "markdown",
      "source": [
        "#### Run demo\n",
        "\n",
        "So here, we would like to use **DiffBindFR** to perform flexible docking and dock the ligand into pocket and refine the side chain conformation so that the refined structure is close to holo."
      ],
      "metadata": {
        "id": "-_pNL953XaAF"
      }
    },
    {
      "cell_type": "code",
      "execution_count": 9,
      "metadata": {
        "id": "n3DOQ2zngqp7"
      },
      "outputs": [],
      "source": [
        "experiment_name = 'Q15661'\n",
        "export_dir = 'demo_af2_docking'\n",
        "export_dir = os.path.abspath(export_dir)\n",
        "seed = 888"
      ]
    },
    {
      "cell_type": "code",
      "execution_count": null,
      "metadata": {
        "id": "wiX7VH_egE4L"
      },
      "outputs": [],
      "source": [
        "# input parameters in jupyter using argparse\n",
        "parser = common.parse_args()\n",
        "args = parser.parse_args(\n",
        "    [\n",
        "        '-l', str(crystal_ligand),\n",
        "        '-p', str(af2),\n",
        "        '-o', export_dir,\n",
        "        '-np', '40',\n",
        "        '-gpu', '0',\n",
        "        '-cpu', '1',\n",
        "        '-bs', '16',\n",
        "        '-eval', '-rp', # here we automatically evaluate the redock performance\n",
        "        '-cl',\n",
        "        '-st',\n",
        "        '-n', experiment_name,\n",
        "        '--seed', str(seed),\n",
        "    ]\n",
        ")\n",
        "args.cfg_options = None\n",
        "job_df = common.make_inference_jobs(args)\n",
        "runner(job_df, args)"
      ]
    },
    {
      "cell_type": "code",
      "execution_count": 18,
      "metadata": {
        "id": "faqXhkQpgE6e"
      },
      "outputs": [],
      "source": [
        "results_dir = os.path.join(export_dir, experiment_name, 'results')\n",
        "smina_top1 = os.path.join(results_dir, 'results_ec_smina_top1.csv')\n",
        "smina_top1 = pd.read_csv(smina_top1)\n",
        "smina_top1 = smina_top1.iloc[0]\n",
        "smina_top1_protein = smina_top1.protein_pdb\n",
        "smina_top1_pose = smina_top1.docked_lig\n",
        "mdn_top1 = os.path.join(results_dir, 'results_ec_mdn_top1.csv')\n",
        "mdn_top1 = pd.read_csv(mdn_top1)\n",
        "mdn_top1 = mdn_top1.iloc[0]\n",
        "mdn_top1_protein = mdn_top1.protein_pdb\n",
        "mdn_top1_pose = mdn_top1.docked_lig"
      ]
    },
    {
      "cell_type": "markdown",
      "source": [
        "#### Get top1 prediction"
      ],
      "metadata": {
        "id": "cchNIH2QXmBy"
      }
    },
    {
      "cell_type": "code",
      "source": [
        "holo_pocket = PDBPocketResidues.RDmolPocketResidues(\n",
        "    str(holo), str(crystal_ligand),\n",
        ")\n",
        "view = holo_pocket.visualize_pocket(pocket_buffer)\n",
        "view = holo_pocket.compare(smina_top1_protein, ligand_sdf = smina_top1_pose)\n",
        "view._remote_call('setSize', target='Widget', args=['','600px'])\n",
        "view"
      ],
      "metadata": {
        "id": "DTzaVEJlXf41"
      },
      "execution_count": null,
      "outputs": []
    },
    {
      "cell_type": "code",
      "source": [
        "print('DiffBindFR-Smina')\n",
        "print(f'ligand RMSD:', round(smina_top1['l-rmsd_ec'], 2))\n",
        "\n",
        "results_df = pair_spatial_metrics(\n",
        "    str(holo), str(crystal_ligand), str(smina_top1_protein),\n",
        "    holo_chainid, 'A', # af2 chain id is A as it is monomer prediction\n",
        "    bs_cutoff = pocket_buffer,\n",
        ")\n",
        "sc_rmsd = results_df.iloc[0].mean_sc_rmsd\n",
        "print('pocket side chain heavy atoms RMSD within 5A of ligand:', round(sc_rmsd, 2))\n",
        "\n",
        "results_df = pair_spatial_metrics(\n",
        "    str(smina_top1_protein), str(crystal_ligand), str(holo),\n",
        "    'A', holo_chainid,\n",
        "    bs_res_str = flexible_residues.split(','),\n",
        ")\n",
        "sc_rmsd = results_df.iloc[0].mean_sc_rmsd\n",
        "print(f'pocket side chain heavy atoms RMSD of {flexible_residues}:', round(sc_rmsd, 2))"
      ],
      "metadata": {
        "id": "3m56GltBXf7M"
      },
      "execution_count": null,
      "outputs": []
    },
    {
      "cell_type": "code",
      "source": [
        "print('DiffBindFR-MDN')\n",
        "print(f'ligand RMSD:', round(mdn_top1['l-rmsd_ec'], 2))\n",
        "\n",
        "results_df = pair_spatial_metrics(\n",
        "    str(holo), str(crystal_ligand), str(mdn_top1_protein),\n",
        "    holo_chainid, 'A', # af2 chain id is A as it is monomer prediction\n",
        "    bs_cutoff = pocket_buffer,\n",
        ")\n",
        "sc_rmsd = results_df.iloc[0].mean_sc_rmsd\n",
        "print('pocket side chain heavy atoms RMSD within 5A of ligand:', round(sc_rmsd, 2))\n",
        "\n",
        "results_df = pair_spatial_metrics(\n",
        "    str(mdn_top1_protein), str(crystal_ligand), str(holo),\n",
        "    'A', holo_chainid,\n",
        "    bs_res_str = flexible_residues.split(','),\n",
        ")\n",
        "sc_rmsd = results_df.iloc[0].mean_sc_rmsd\n",
        "print(f'pocket side chain heavy atoms RMSD of {flexible_residues}:', round(sc_rmsd, 2))"
      ],
      "metadata": {
        "id": "hYCnxpwMWX0Z"
      },
      "execution_count": null,
      "outputs": []
    },
    {
      "cell_type": "markdown",
      "source": [
        "#### Protein-ligand complex structure relaxation based OpenMM (Optional)"
      ],
      "metadata": {
        "id": "ALp53duAGiEJ"
      }
    },
    {
      "cell_type": "code",
      "source": [
        "from DiffBindFR.relax.pl import relax_pl\n",
        "\n",
        "use_cpu = not torch.cuda.is_available()\n",
        "kwargs = dict(\n",
        "  sanitize=True,\n",
        "  removeHs=True,\n",
        "  strictParsing=True,\n",
        "  proximityBonding=True,\n",
        "  cleanupSubstructures=True,\n",
        "  p_restraint_type='protein',\n",
        "  p_stiffness=100.,\n",
        "  l_restraint_type='non_H',\n",
        "  l_stiffness=0.,\n",
        "  tolerance=0.01,\n",
        "  maxIterations=0,\n",
        "  gpu=(not use_cpu),\n",
        "  ccd_int=0,\n",
        "  keepIds=True,\n",
        "  seed=None,\n",
        "  rst_mask=None,\n",
        "  num_workers=12,\n",
        "  verbose=True,\n",
        ")"
      ],
      "metadata": {
        "id": "GtyIT56w9ZkJ"
      },
      "execution_count": 12,
      "outputs": []
    },
    {
      "cell_type": "code",
      "source": [
        "DIR = os.path.join(export_dir, experiment_name, 'DiffBindFR-Smina-top1', Path(smina_top1_protein).parents[1].stem)\n",
        "DIR = os.path.abspath(DIR)\n",
        "Path(DIR).mkdir(parents=True, exist_ok=True)\n",
        "shutil.copy(smina_top1_protein, DIR)\n",
        "shutil.copy(smina_top1_pose, DIR)\n",
        "input_pdb_file = f'{DIR}/prot_final.pdb'\n",
        "ligand_file = f'{DIR}/lig_final_ec.sdf'\n",
        "out_fixed_pdb_file = f'{DIR}/fixed.pdb'\n",
        "out_relax_pdb_file = f'{DIR}/relaxed_protein.pdb'\n",
        "out_relax_lig_file = f'{DIR}/relaxed_ligand.sdf'\n",
        "out_relax_complex_file = f'{DIR}/relaxed_complex.pdb'\n",
        "\n",
        "\n",
        "relax_pl(\n",
        "  input_pdb_file,\n",
        "  None,\n",
        "  out_fixed_pdb_file,\n",
        "  out_relax_pdb_file,\n",
        "  None,\n",
        "  None,\n",
        "  **kwargs,\n",
        ")\n",
        "input_pdb_file = out_relax_pdb_file\n",
        "\n",
        "relax_pl(\n",
        "  input_pdb_file,\n",
        "  ligand_file,\n",
        "  out_fixed_pdb_file,\n",
        "  out_relax_pdb_file,\n",
        "  out_relax_lig_file,\n",
        "  out_relax_complex_file,\n",
        "  **kwargs,\n",
        ")"
      ],
      "metadata": {
        "id": "OEpbh8rJDccS"
      },
      "execution_count": null,
      "outputs": []
    },
    {
      "cell_type": "code",
      "source": [
        "DIR = os.path.join(export_dir, experiment_name, 'DiffBindFR-MDN-top1', Path(mdn_top1_protein).parents[1].stem)\n",
        "DIR = os.path.abspath(DIR)\n",
        "Path(DIR).mkdir(parents=True, exist_ok=True)\n",
        "shutil.copy(mdn_top1_protein, DIR)\n",
        "shutil.copy(mdn_top1_pose, DIR)\n",
        "input_pdb_file = f'{DIR}/prot_final.pdb'\n",
        "ligand_file = f'{DIR}/lig_final_ec.sdf'\n",
        "out_fixed_pdb_file = f'{DIR}/fixed.pdb'\n",
        "out_relax_pdb_file = f'{DIR}/relaxed_protein.pdb'\n",
        "out_relax_lig_file = f'{DIR}/relaxed_ligand.sdf'\n",
        "out_relax_complex_file = f'{DIR}/relaxed_complex.pdb'\n",
        "\n",
        "\n",
        "relax_pl(\n",
        "  input_pdb_file,\n",
        "  None,\n",
        "  out_fixed_pdb_file,\n",
        "  out_relax_pdb_file,\n",
        "  None,\n",
        "  None,\n",
        "  **kwargs,\n",
        ")\n",
        "input_pdb_file = out_relax_pdb_file\n",
        "\n",
        "relax_pl(\n",
        "  input_pdb_file,\n",
        "  ligand_file,\n",
        "  out_fixed_pdb_file,\n",
        "  out_relax_pdb_file,\n",
        "  out_relax_lig_file,\n",
        "  out_relax_complex_file,\n",
        "  **kwargs,\n",
        ")"
      ],
      "metadata": {
        "id": "EFlulqVPLhM6"
      },
      "execution_count": null,
      "outputs": []
    },
    {
      "cell_type": "markdown",
      "source": [
        "##### Download the top1 results"
      ],
      "metadata": {
        "id": "HvvLE-P0VmGr"
      }
    },
    {
      "cell_type": "code",
      "source": [
        "DIR = os.path.join(export_dir, experiment_name)\n",
        "DIR = os.path.abspath(export_dir)\n",
        "\n",
        "tar_file = 'DiffBindFR-predicted-structures.tar.gz'\n",
        "if os.path.exists(tar_file):\n",
        "  os.remove(tar_file)\n",
        "tar = tarfile.open(tar_file, \"w:gz\")\n",
        "for root, sdir, files in os.walk(DIR):\n",
        "  root_ = os.path.relpath(root, start = DIR)\n",
        "  for f in files:\n",
        "    full_path = os.path.join(root, f)\n",
        "    if any(x in full_path for x in ['DiffBindFR-Smina-top1', 'DiffBindFR-MDN-top1']):\n",
        "      tar.add(full_path, arcname = os.path.join(root_, f))\n",
        "tar.close()"
      ],
      "metadata": {
        "id": "nMe7TNvrROH6"
      },
      "execution_count": null,
      "outputs": []
    },
    {
      "cell_type": "code",
      "source": [
        "files.download(tar_file)"
      ],
      "metadata": {
        "colab": {
          "base_uri": "https://localhost:8080/",
          "height": 17
        },
        "id": "5kp-bk26SQbT",
        "outputId": "3af9f3d6-3a86-47a4-a1be-6232f0b98ac9"
      },
      "execution_count": 38,
      "outputs": [
        {
          "output_type": "display_data",
          "data": {
            "text/plain": [
              "<IPython.core.display.Javascript object>"
            ],
            "application/javascript": [
              "\n",
              "    async function download(id, filename, size) {\n",
              "      if (!google.colab.kernel.accessAllowed) {\n",
              "        return;\n",
              "      }\n",
              "      const div = document.createElement('div');\n",
              "      const label = document.createElement('label');\n",
              "      label.textContent = `Downloading \"${filename}\": `;\n",
              "      div.appendChild(label);\n",
              "      const progress = document.createElement('progress');\n",
              "      progress.max = size;\n",
              "      div.appendChild(progress);\n",
              "      document.body.appendChild(div);\n",
              "\n",
              "      const buffers = [];\n",
              "      let downloaded = 0;\n",
              "\n",
              "      const channel = await google.colab.kernel.comms.open(id);\n",
              "      // Send a message to notify the kernel that we're ready.\n",
              "      channel.send({})\n",
              "\n",
              "      for await (const message of channel.messages) {\n",
              "        // Send a message to notify the kernel that we're ready.\n",
              "        channel.send({})\n",
              "        if (message.buffers) {\n",
              "          for (const buffer of message.buffers) {\n",
              "            buffers.push(buffer);\n",
              "            downloaded += buffer.byteLength;\n",
              "            progress.value = downloaded;\n",
              "          }\n",
              "        }\n",
              "      }\n",
              "      const blob = new Blob(buffers, {type: 'application/binary'});\n",
              "      const a = document.createElement('a');\n",
              "      a.href = window.URL.createObjectURL(blob);\n",
              "      a.download = filename;\n",
              "      div.appendChild(a);\n",
              "      a.click();\n",
              "      div.remove();\n",
              "    }\n",
              "  "
            ]
          },
          "metadata": {}
        },
        {
          "output_type": "display_data",
          "data": {
            "text/plain": [
              "<IPython.core.display.Javascript object>"
            ],
            "application/javascript": [
              "download(\"download_365900df-6e06-4763-aa14-3d0ded03a28d\", \"DiffBindFR-predicted-structures.tar.gz\", 393345)"
            ]
          },
          "metadata": {}
        }
      ]
    },
    {
      "cell_type": "markdown",
      "source": [
        "##### Save to Google Drive (Optional)\n"
      ],
      "metadata": {
        "id": "jXQFzVXXOQxt"
      }
    },
    {
      "cell_type": "code",
      "source": [
        "from pydrive2.drive import GoogleDrive\n",
        "from pydrive2.auth import GoogleAuth\n",
        "from google.colab import auth\n",
        "from oauth2client.client import GoogleCredentials\n",
        "auth.authenticate_user()\n",
        "gauth = GoogleAuth()\n",
        "gauth.credentials = GoogleCredentials.get_application_default()\n",
        "drive = GoogleDrive(gauth)\n",
        "print(\"You are logged into Google Drive and are good to go!\")"
      ],
      "metadata": {
        "colab": {
          "base_uri": "https://localhost:8080/"
        },
        "id": "uD06VkLLN6os",
        "outputId": "85e41c90-2ef2-4f67-dff0-ea7cc05d9d50"
      },
      "execution_count": 21,
      "outputs": [
        {
          "output_type": "stream",
          "name": "stdout",
          "text": [
            "You are logged into Google Drive and are good to go!\n"
          ]
        }
      ]
    },
    {
      "cell_type": "code",
      "source": [
        "uploaded = drive.CreateFile({'title': tar_file})\n",
        "uploaded.SetContentFile(tar_file)\n",
        "uploaded.Upload()\n",
        "print(f\"Uploaded {tar_file} to Google Drive with ID {uploaded.get('id')}\")"
      ],
      "metadata": {
        "id": "cf52UBe8ODbU"
      },
      "execution_count": null,
      "outputs": []
    },
    {
      "cell_type": "markdown",
      "source": [
        "#### Make trajectory movie"
      ],
      "metadata": {
        "id": "uRHsVvXCXzgg"
      }
    },
    {
      "cell_type": "code",
      "source": [
        "cm = ColormakerRegistry\n",
        "cm.add_scheme_func('lig_atomwise','''\n",
        " this.atomColor = function (atom) {\n",
        "     if (atom.element == \"C\") {\n",
        "       return 0x7272e6 // C\n",
        "     } else if (atom.element == \"H\") {\n",
        "       return 0xecf0f1\n",
        "     } else if (atom.element == \"S\") {\n",
        "       return 0xf1c40f\n",
        "     } else if (atom.element == \"N\") {\n",
        "       return 0x2d2de1\n",
        "     } else if (atom.element == \"O\") {\n",
        "       return 0xff5252\n",
        "     }\n",
        " }\n",
        "''')\n",
        "cm.add_scheme_func('prot_atomwise','''\n",
        " this.atomColor = function (atom) {\n",
        "     if (atom.element == \"C\") {\n",
        "       return 0xf9f902 // C\n",
        "     } else if (atom.element == \"H\") {\n",
        "       return 0xecf0f1\n",
        "     } else if (atom.element == \"S\") {\n",
        "       return 0xf1c40f\n",
        "     } else if (atom.element == \"N\") {\n",
        "       return 0x2d2de1\n",
        "     } else if (atom.element == \"O\") {\n",
        "       return 0xff5252\n",
        "     }\n",
        " }\n",
        "''')\n",
        "\n",
        "def add_ec_to_xtc(\n",
        "    sample_dir: str,\n",
        "    topology: str,\n",
        "    new_name: str = 'new_prl_traj.xtc',\n",
        ") -> str:\n",
        "    pdb_final = os.path.join(sample_dir, 'prot_final.pdb')\n",
        "    lig_final = os.path.join(sample_dir, 'lig_final_ec.sdf')\n",
        "    lig_final_mol = Chem.SDMolSupplier(lig_final)[0]\n",
        "    lig_final_mol = Chem.MolFromPDBBlock(Chem.MolToPDBBlock(lig_final_mol))\n",
        "\n",
        "    traj_dir = os.path.join(sample_dir, 'prl_traj')\n",
        "    trajs = list(Path(traj_dir).glob('prl_*.pdb'))\n",
        "    assert len(trajs) > 0, 'please export trajectory when you run DiffBindFR sampling by turn on -st.'\n",
        "    ids = []\n",
        "    for traj in trajs:\n",
        "        stem = traj.stem\n",
        "        traj_id = get_traj_id(stem)\n",
        "        ids.append(traj_id)\n",
        "    max_id = max(ids)\n",
        "    final_id = max_id + 1\n",
        "    final_traj_path = os.path.join(traj_dir, f'prl_{final_id}.pdb')\n",
        "    seed_traj_path = trajs[0]\n",
        "\n",
        "    mol_seed_block = read_molblock(seed_traj_path)\n",
        "    mol_seed = Chem.MolFromPDBBlock(mol_seed_block) # use mol_seed topology to export PDB block\n",
        "    lig_final_mol = update_mol_pose(mol_seed, lig_final_mol)\n",
        "\n",
        "    trajectory = os.path.join(sample_dir, new_name)\n",
        "    p_pdbblock = Path(pdb_final).read_text()\n",
        "    l_pdbblock = Chem.MolToPDBBlock(lig_final_mol)\n",
        "    try:\n",
        "        complex_pdb_block = to_complex_block(p_pdbblock, l_pdbblock, final_traj_path)\n",
        "        export_xtc(\n",
        "            topology,\n",
        "            traj_dir,\n",
        "            trajectory,\n",
        "        )\n",
        "    finally:\n",
        "        if os.path.exists(final_traj_path):\n",
        "            os.remove(final_traj_path) # avoid increment by multiple run\n",
        "    return trajectory\n",
        "\n",
        "def show_nv_traj(\n",
        "    sample_dir: str,\n",
        "    repr_sel: str,\n",
        "    add_ec_to_xtc_flag = True,\n",
        "):\n",
        "    topology = os.path.join(sample_dir, '../prl_topol.pdb')\n",
        "\n",
        "    if add_ec_to_xtc_flag:\n",
        "        # add ec ligand into xtc\n",
        "        trajectory = add_ec_to_xtc(sample_dir, topology)\n",
        "    else:\n",
        "        trajectory = os.path.join(sample_dir, 'prl_traj.xtc')\n",
        "\n",
        "    u = mda.Universe(topology, trajectory)\n",
        "    system = u.select_atoms('all')\n",
        "    t = nv.MDAnalysisTrajectory(system)\n",
        "    w = nv.NGLWidget(t)\n",
        "    w.clear_representations()\n",
        "    w.add_cartoon(colorScheme = 'sstruc')\n",
        "    w.add_representation(\n",
        "        repr_type='ball+stick',\n",
        "        selection='[UNL]', # ligand resname\n",
        "        color_scheme = 'lig_atomwise'\n",
        "    )\n",
        "    w.add_representation('licorice', selection=repr_sel, color_scheme='prot_atomwise')\n",
        "\n",
        "    if add_ec_to_xtc_flag:\n",
        "        os.remove(trajectory)\n",
        "\n",
        "    return w\n",
        "\n",
        "# make nglview selection expression\n",
        "flex_residue_list = flexible_residues.split(',')\n",
        "flex_resnumber = [x.split(':')[1] for x in flex_residue_list]\n",
        "flex_resnumber = ':A and ' + '( ' + ' or '.join(flex_resnumber) + ' )'\n",
        "flex_resnumber"
      ],
      "metadata": {
        "id": "uImoSBjfXf9F"
      },
      "execution_count": null,
      "outputs": []
    },
    {
      "cell_type": "code",
      "execution_count": null,
      "metadata": {
        "id": "h7fdToyAgE8j"
      },
      "outputs": [],
      "source": [
        "sample_dir = os.path.dirname(smina_top1_protein)\n",
        "w = show_nv_traj(sample_dir, flex_resnumber, True)\n",
        "w"
      ]
    },
    {
      "cell_type": "code",
      "source": [
        "sample_dir = os.path.dirname(mdn_top1_protein)\n",
        "w = show_nv_traj(sample_dir, flex_resnumber, True)\n",
        "w"
      ],
      "metadata": {
        "id": "0Jwcr0iyX3l9"
      },
      "execution_count": null,
      "outputs": []
    },
    {
      "cell_type": "markdown",
      "source": [
        "### 🎉🎉End\n",
        "\n",
        "Thanks for your interest in DiffBindFR. We are still working hard to further improve performance and extend it to other applications.\n",
        "\n",
        "If you have any question, feel free to open a [github issue](https://github.com/HBioquant/DiffBindFR/issues) or reach out to me: [zhujt@stu.pku.edu.cn](zhujt@stu.pku.edu.cn)\n",
        "\n",
        "👋👋👋"
      ],
      "metadata": {
        "id": "STp_vjRtX34-"
      }
    }
  ],
  "metadata": {
    "colab": {
      "provenance": [],
      "authorship_tag": "ABX9TyPc+Q0yvJBM0Vsa6oH86jN3",
      "include_colab_link": true
    },
    "kernelspec": {
      "display_name": "Python 3",
      "name": "python3"
    },
    "language_info": {
      "name": "python"
    }
  },
  "nbformat": 4,
  "nbformat_minor": 0
}